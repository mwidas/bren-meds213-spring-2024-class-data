{
 "cells": [
  {
   "cell_type": "code",
   "execution_count": 3,
   "metadata": {},
   "outputs": [
    {
     "name": "stdout",
     "output_type": "stream",
     "text": [
      "Requirement already satisfied: duckdb in /Users/melissawidas/opt/anaconda3/envs/eds217_2023/lib/python3.10/site-packages (0.10.2)\n",
      "Note: you may need to restart the kernel to use updated packages.\n"
     ]
    }
   ],
   "source": [
    "%pip install duckdb\n"
   ]
  },
  {
   "cell_type": "code",
   "execution_count": 4,
   "metadata": {},
   "outputs": [],
   "source": [
    "import duckdb"
   ]
  },
  {
   "cell_type": "markdown",
   "metadata": {},
   "source": [
    "1. Create a connection and a cursor"
   ]
  },
  {
   "cell_type": "code",
   "execution_count": 5,
   "metadata": {},
   "outputs": [
    {
     "data": {
      "text/plain": [
       "<duckdb.duckdb.DuckDBPyConnection at 0x7f9c58788370>"
      ]
     },
     "execution_count": 5,
     "metadata": {},
     "output_type": "execute_result"
    }
   ],
   "source": [
    "conn = duckdb.connect(\"database.db\")\n",
    "conn"
   ]
  },
  {
   "cell_type": "code",
   "execution_count": 6,
   "metadata": {},
   "outputs": [],
   "source": [
    "cur = conn.cursor()"
   ]
  },
  {
   "cell_type": "markdown",
   "metadata": {},
   "source": [
    "Now let's do something with our curson"
   ]
  },
  {
   "cell_type": "code",
   "execution_count": 7,
   "metadata": {},
   "outputs": [
    {
     "data": {
      "text/plain": [
       "<duckdb.duckdb.DuckDBPyConnection at 0x7f9c587914b0>"
      ]
     },
     "execution_count": 7,
     "metadata": {},
     "output_type": "execute_result"
    }
   ],
   "source": [
    "cur.execute(\"SELECT * FROM Site LIMIT 5\")"
   ]
  },
  {
   "cell_type": "markdown",
   "metadata": {},
   "source": [
    "Now we want to see our results...there are 3 ways of getting them\n",
    "1. All results at once "
   ]
  },
  {
   "cell_type": "code",
   "execution_count": 8,
   "metadata": {},
   "outputs": [
    {
     "data": {
      "text/plain": [
       "[('barr',\n",
       "  'Barrow',\n",
       "  'Alaska, USA',\n",
       "  71.30000305175781,\n",
       "  -156.60000610351562,\n",
       "  220.39999389648438),\n",
       " ('burn',\n",
       "  'Burntpoint Creek',\n",
       "  'Ontario, Canada',\n",
       "  55.20000076293945,\n",
       "  -84.30000305175781,\n",
       "  63.0),\n",
       " ('bylo',\n",
       "  'Bylot Island',\n",
       "  'Nunavut, Canada',\n",
       "  73.19999694824219,\n",
       "  -80.0,\n",
       "  723.5999755859375),\n",
       " ('cakr',\n",
       "  'Cape Krusenstern',\n",
       "  'Alaska, USA',\n",
       "  67.0999984741211,\n",
       "  -163.5,\n",
       "  54.099998474121094),\n",
       " ('cari',\n",
       "  'Canning River Delta',\n",
       "  'Alaska, USA',\n",
       "  70.0999984741211,\n",
       "  -145.8000030517578,\n",
       "  722.0)]"
      ]
     },
     "execution_count": 8,
     "metadata": {},
     "output_type": "execute_result"
    }
   ],
   "source": [
    "# this prints out a list with each set of values as a tuple\n",
    "cur.fetchall()"
   ]
  },
  {
   "cell_type": "markdown",
   "metadata": {},
   "source": [
    "Cursors do not store anything, they just transfer queries to the database and get results back \n",
    "Therefore if we were to re-run just `cur.fetchall()` we would return an empty list \n",
    "You will always get back tuples even if you only request 1 columns"
   ]
  },
  {
   "cell_type": "code",
   "execution_count": 10,
   "metadata": {},
   "outputs": [
    {
     "data": {
      "text/plain": [
       "<duckdb.duckdb.DuckDBPyConnection at 0x7f9c587914b0>"
      ]
     },
     "execution_count": 10,
     "metadata": {},
     "output_type": "execute_result"
    }
   ],
   "source": [
    "cur.execute(\"SELECT Nest_ID FROM Bird_nests LIMIT 10\")"
   ]
  },
  {
   "cell_type": "code",
   "execution_count": 11,
   "metadata": {},
   "outputs": [
    {
     "data": {
      "text/plain": [
       "[('14HPE1',),\n",
       " ('11eaba',),\n",
       " ('11eabaagc01',),\n",
       " ('11eabaagv01',),\n",
       " ('11eababbc02',),\n",
       " ('11eababsv01',),\n",
       " ('11eabaduh01',),\n",
       " ('11eabaduv01',),\n",
       " ('11eabarpc01',),\n",
       " ('11eabarpc02',)]"
      ]
     },
     "execution_count": 11,
     "metadata": {},
     "output_type": "execute_result"
    }
   ],
   "source": [
    "# returns a tuple for each query\n",
    "cur.fetchall()"
   ]
  },
  {
   "cell_type": "code",
   "execution_count": 13,
   "metadata": {},
   "outputs": [
    {
     "data": {
      "text/plain": [
       "['14HPE1',\n",
       " '11eaba',\n",
       " '11eabaagc01',\n",
       " '11eabaagv01',\n",
       " '11eababbc02',\n",
       " '11eababsv01',\n",
       " '11eabaduh01',\n",
       " '11eabaduv01',\n",
       " '11eabarpc01',\n",
       " '11eabarpc02']"
      ]
     },
     "execution_count": 13,
     "metadata": {},
     "output_type": "execute_result"
    }
   ],
   "source": [
    "cur.execute(\"SELECT Nest_ID FROM Bird_nests LIMIT 10\")\n",
    "# list comprehension; for each tuple t give me the 1st element in cur.fetchall\n",
    "# returns a string for each query\n",
    "[t[0] for t in cur.fetchall()]"
   ]
  },
  {
   "cell_type": "markdown",
   "metadata": {},
   "source": [
    "2. Get the one result, or the next result"
   ]
  },
  {
   "cell_type": "code",
   "execution_count": 15,
   "metadata": {},
   "outputs": [
    {
     "data": {
      "text/plain": [
       "[(1547,)]"
      ]
     },
     "execution_count": 15,
     "metadata": {},
     "output_type": "execute_result"
    }
   ],
   "source": [
    "# returns a tuple\n",
    "cur.execute(\"SELECT COUNT(*) FROM Bird_nests\")\n",
    "cur.fetchall()"
   ]
  },
  {
   "cell_type": "code",
   "execution_count": 14,
   "metadata": {},
   "outputs": [
    {
     "data": {
      "text/plain": [
       "(1547,)"
      ]
     },
     "execution_count": 14,
     "metadata": {},
     "output_type": "execute_result"
    }
   ],
   "source": [
    "# returns a list\n",
    "cur.execute(\"SELECT COUNT(*) FROM Bird_nests\")\n",
    "cur.fetchone()"
   ]
  },
  {
   "cell_type": "code",
   "execution_count": 16,
   "metadata": {},
   "outputs": [
    {
     "data": {
      "text/plain": [
       "1547"
      ]
     },
     "execution_count": 16,
     "metadata": {},
     "output_type": "execute_result"
    }
   ],
   "source": [
    "# returns just the number\n",
    "cur.execute(\"SELECT COUNT(*) FROM Bird_nests\")\n",
    "cur.fetchone()[0]"
   ]
  },
  {
   "cell_type": "markdown",
   "metadata": {},
   "source": [
    "3. Using an iterator - but DuckDB doesn't support iterators"
   ]
  },
  {
   "cell_type": "code",
   "execution_count": 17,
   "metadata": {},
   "outputs": [
    {
     "ename": "TypeError",
     "evalue": "'duckdb.duckdb.DuckDBPyConnection' object is not iterable",
     "output_type": "error",
     "traceback": [
      "\u001b[0;31m---------------------------------------------------------------------------\u001b[0m",
      "\u001b[0;31mTypeError\u001b[0m                                 Traceback (most recent call last)",
      "Cell \u001b[0;32mIn[17], line 2\u001b[0m\n\u001b[1;32m      1\u001b[0m cur\u001b[39m.\u001b[39mexecute(\u001b[39m\"\u001b[39m\u001b[39mSELECT Nest_ID FROM Bird_nests LIMIT 10\u001b[39m\u001b[39m\"\u001b[39m)\n\u001b[0;32m----> 2\u001b[0m \u001b[39mfor\u001b[39;00m row \u001b[39min\u001b[39;00m cur:\n\u001b[1;32m      3\u001b[0m     \u001b[39mprint\u001b[39m(\u001b[39mf\u001b[39m\u001b[39m\"\u001b[39m\u001b[39mgot \u001b[39m\u001b[39m{\u001b[39;00mrow[\u001b[39m0\u001b[39m]\u001b[39m}\u001b[39;00m\u001b[39m\"\u001b[39m)\n",
      "\u001b[0;31mTypeError\u001b[0m: 'duckdb.duckdb.DuckDBPyConnection' object is not iterable"
     ]
    }
   ],
   "source": [
    "cur.execute(\"SELECT Nest_ID FROM Bird_nests LIMIT 10\")\n",
    "for row in cur:\n",
    "    print(f\"got {row[0]}\")\n",
    "            "
   ]
  },
  {
   "cell_type": "code",
   "execution_count": 20,
   "metadata": {},
   "outputs": [
    {
     "name": "stdout",
     "output_type": "stream",
     "text": [
      "got nest ID 14HPE1\n",
      "got nest ID 11eaba\n",
      "got nest ID 11eabaagc01\n",
      "got nest ID 11eabaagv01\n",
      "got nest ID 11eababbc02\n",
      "got nest ID 11eababsv01\n",
      "got nest ID 11eabaduh01\n",
      "got nest ID 11eabaduv01\n",
      "got nest ID 11eabarpc01\n",
      "got nest ID 11eabarpc02\n"
     ]
    }
   ],
   "source": [
    "cur.execute(\"SELECT Nest_ID FROM Bird_nests LIMIT 10\")\n",
    "while True:\n",
    "    row = cur.fetchone()\n",
    "    if row == None:\n",
    "        break\n",
    "    # do something with row\n",
    "    print(f\"got nest ID {row[0]}\")"
   ]
  },
  {
   "cell_type": "markdown",
   "metadata": {},
   "source": [
    "Can use statements other than SELECT as well"
   ]
  },
  {
   "cell_type": "code",
   "execution_count": 21,
   "metadata": {},
   "outputs": [
    {
     "data": {
      "text/plain": [
       "<duckdb.duckdb.DuckDBPyConnection at 0x7f9c587914b0>"
      ]
     },
     "execution_count": 21,
     "metadata": {},
     "output_type": "execute_result"
    }
   ],
   "source": [
    "# \"\"\" a way of quoting a multi-line string\n",
    "cur.execute(\"\"\" \n",
    "            CREATE TEMP TABLE temp_table AS\n",
    "            SELECT * FROM Bird_nests LIMIT 10\n",
    "            \"\"\")"
   ]
  },
  {
   "cell_type": "code",
   "execution_count": 22,
   "metadata": {},
   "outputs": [
    {
     "data": {
      "text/plain": [
       "<duckdb.duckdb.DuckDBPyConnection at 0x7f9c587914b0>"
      ]
     },
     "execution_count": 22,
     "metadata": {},
     "output_type": "execute_result"
    }
   ],
   "source": [
    "cur.execute(\"SELECT * FROM temp_table\")"
   ]
  },
  {
   "cell_type": "code",
   "execution_count": 23,
   "metadata": {},
   "outputs": [
    {
     "data": {
      "text/plain": [
       "[('b14.6',\n",
       "  2014,\n",
       "  'chur',\n",
       "  '14HPE1',\n",
       "  'sepl',\n",
       "  'vloverti',\n",
       "  datetime.date(2014, 6, 14),\n",
       "  None,\n",
       "  3,\n",
       "  None,\n",
       "  None),\n",
       " ('b11.7',\n",
       "  2011,\n",
       "  'eaba',\n",
       "  '11eaba',\n",
       "  'wrsa',\n",
       "  'bhill',\n",
       "  datetime.date(2011, 7, 10),\n",
       "  'searcher',\n",
       "  4,\n",
       "  None,\n",
       "  None),\n",
       " ('b11.6',\n",
       "  2011,\n",
       "  'eaba',\n",
       "  '11eabaagc01',\n",
       "  'amgp',\n",
       "  'dkessler',\n",
       "  datetime.date(2011, 6, 24),\n",
       "  'searcher',\n",
       "  4,\n",
       "  6.0,\n",
       "  'float'),\n",
       " ('b11.6',\n",
       "  2011,\n",
       "  'eaba',\n",
       "  '11eabaagv01',\n",
       "  'amgp',\n",
       "  'dkessler',\n",
       "  datetime.date(2011, 6, 25),\n",
       "  'searcher',\n",
       "  3,\n",
       "  3.0,\n",
       "  'float'),\n",
       " ('b11.6',\n",
       "  2011,\n",
       "  'eaba',\n",
       "  '11eababbc02',\n",
       "  'bbpl',\n",
       "  'dkessler',\n",
       "  datetime.date(2011, 6, 24),\n",
       "  'searcher',\n",
       "  4,\n",
       "  4.0,\n",
       "  'float'),\n",
       " ('b11.7',\n",
       "  2011,\n",
       "  'eaba',\n",
       "  '11eababsv01',\n",
       "  'wrsa',\n",
       "  'bhill',\n",
       "  datetime.date(2011, 7, 7),\n",
       "  'searcher',\n",
       "  4,\n",
       "  2.0,\n",
       "  'float'),\n",
       " ('b11.6',\n",
       "  2011,\n",
       "  'eaba',\n",
       "  '11eabaduh01',\n",
       "  'dunl',\n",
       "  'dkessler',\n",
       "  datetime.date(2011, 6, 28),\n",
       "  'searcher',\n",
       "  3,\n",
       "  2.0,\n",
       "  'float'),\n",
       " ('b11.6',\n",
       "  2011,\n",
       "  'eaba',\n",
       "  '11eabaduv01',\n",
       "  'dunl',\n",
       "  'dkessler',\n",
       "  datetime.date(2011, 6, 29),\n",
       "  'searcher',\n",
       "  4,\n",
       "  5.0,\n",
       "  'float'),\n",
       " ('b11.7',\n",
       "  2011,\n",
       "  'eaba',\n",
       "  '11eabarpc01',\n",
       "  'reph',\n",
       "  'bhill',\n",
       "  datetime.date(2011, 7, 8),\n",
       "  'searcher',\n",
       "  4,\n",
       "  4.0,\n",
       "  'float'),\n",
       " ('b11.7',\n",
       "  2011,\n",
       "  'eaba',\n",
       "  '11eabarpc02',\n",
       "  'reph',\n",
       "  'bhill',\n",
       "  datetime.date(2011, 7, 8),\n",
       "  'searcher',\n",
       "  3,\n",
       "  4.0,\n",
       "  'float')]"
      ]
     },
     "execution_count": 23,
     "metadata": {},
     "output_type": "execute_result"
    }
   ],
   "source": [
    "cur.fetchall()"
   ]
  },
  {
   "cell_type": "markdown",
   "metadata": {},
   "source": [
    "A note on fragility\n",
    "\n",
    "For example:\n",
    "INSERT INTO Site VALUES (\"abcd\", \"Foo\", 35.7, -119.5, \"?\")\n",
    "\n",
    "A less fragile way of expressing the same thing:\n",
    "INSERT INTO Site (Code, Site_name, Latitude, Longitude, Something_else)\n",
    "    VALUES (\"abcd\", \"Foo\", 35.7, -119.5, \"?\")\n",
    "\n",
    "In the same vein: SELECT * is fragile "
   ]
  },
  {
   "cell_type": "code",
   "execution_count": 24,
   "metadata": {},
   "outputs": [
    {
     "data": {
      "text/plain": [
       "[('barr',\n",
       "  'Barrow',\n",
       "  'Alaska, USA',\n",
       "  71.30000305175781,\n",
       "  -156.60000610351562,\n",
       "  220.39999389648438),\n",
       " ('burn',\n",
       "  'Burntpoint Creek',\n",
       "  'Ontario, Canada',\n",
       "  55.20000076293945,\n",
       "  -84.30000305175781,\n",
       "  63.0),\n",
       " ('bylo',\n",
       "  'Bylot Island',\n",
       "  'Nunavut, Canada',\n",
       "  73.19999694824219,\n",
       "  -80.0,\n",
       "  723.5999755859375)]"
      ]
     },
     "execution_count": 24,
     "metadata": {},
     "output_type": "execute_result"
    }
   ],
   "source": [
    "cur.execute(\"SELECT * FROM Site LIMIT 3\")\n",
    "cur.fetchall()"
   ]
  },
  {
   "cell_type": "markdown",
   "metadata": {},
   "source": [
    "A better more robust way to code something"
   ]
  },
  {
   "cell_type": "code",
   "execution_count": 25,
   "metadata": {},
   "outputs": [
    {
     "data": {
      "text/plain": [
       "[('Barrow', 'barr', 71.30000305175781, -156.60000610351562),\n",
       " ('Burntpoint Creek', 'burn', 55.20000076293945, -84.30000305175781),\n",
       " ('Bylot Island', 'bylo', 73.19999694824219, -80.0)]"
      ]
     },
     "execution_count": 25,
     "metadata": {},
     "output_type": "execute_result"
    }
   ],
   "source": [
    "# a better way\n",
    "cur.execute(\"SELECT Site_name, Code, Latitude, Longitude FROM Site LIMIT 3\")\n",
    "cur.fetchall()"
   ]
  },
  {
   "cell_type": "markdown",
   "metadata": {},
   "source": [
    "Question we are trying to answer: How many nests do we have for each species?\n",
    "\n",
    "Approach: first get all species. Then execute a count query for each species"
   ]
  },
  {
   "cell_type": "markdown",
   "metadata": {},
   "source": [
    "This approach is rather dangerous actually"
   ]
  },
  {
   "cell_type": "code",
   "execution_count": 35,
   "metadata": {},
   "outputs": [
    {
     "name": "stdout",
     "output_type": "stream",
     "text": [
      "Species agsq has 0 nests\n",
      "Species amcr has 0 nests\n",
      "Species amgp has 29 nests\n"
     ]
    }
   ],
   "source": [
    "query = \"\"\"\n",
    "SELECT COUNT(*) FROM Bird_nests\n",
    "WHERE Species = '%s'\n",
    "\"\"\"\n",
    "\n",
    "cur.execute(\"SELECT Code FROM Species LIMIT 3\")\n",
    "for row in cur.fetchall(): #DuckDB work around\n",
    "    code = row[0]\n",
    "    prepared_query = query % code\n",
    "    #print(prepared_query)\n",
    "    cur2 = conn.cursor()\n",
    "    cur2.execute(prepared_query)\n",
    "    print(f\"Species {code} has {cur2.fetchone()[0]} nests\")"
   ]
  },
  {
   "cell_type": "markdown",
   "metadata": {},
   "source": [
    "Side note "
   ]
  },
  {
   "cell_type": "code",
   "execution_count": 30,
   "metadata": {},
   "outputs": [
    {
     "name": "stdout",
     "output_type": "stream",
     "text": [
      "My name is greg\n",
      "My name is greg and the other teachers name is julian\n",
      "My name is greg\n",
      "My name is Greg\n"
     ]
    }
   ],
   "source": [
    "s = \"My name is %s\"\n",
    "print(s % \"greg\")\n",
    "\n",
    "# and \n",
    "s = \"My name is %s and the other teachers name is %s\"\n",
    "print(s % (\"greg\", \"julian\"))\n",
    "\n",
    "# the new f-string method\n",
    "name = \"greg\"\n",
    "print(f\"My name is {name}\")\n",
    "\n",
    "#third way\n",
    "print(\"My name is {}\".format(\"Greg\"))\n"
   ]
  },
  {
   "cell_type": "markdown",
   "metadata": {},
   "source": [
    "The above Python interpolation is dangerous and has caused many database hacks! There is a better way"
   ]
  },
  {
   "cell_type": "code",
   "execution_count": 39,
   "metadata": {},
   "outputs": [
    {
     "name": "stdout",
     "output_type": "stream",
     "text": [
      "Intel MKL WARNING: Support of Intel(R) Streaming SIMD Extensions 4.2 (Intel(R) SSE4.2) enabled only processors has been deprecated. Intel oneAPI Math Kernel Library 2025.0 will require Intel(R) Advanced Vector Extensions (Intel(R) AVX) instructions.\n",
      "Intel MKL WARNING: Support of Intel(R) Streaming SIMD Extensions 4.2 (Intel(R) SSE4.2) enabled only processors has been deprecated. Intel oneAPI Math Kernel Library 2025.0 will require Intel(R) Advanced Vector Extensions (Intel(R) AVX) instructions.\n",
      "Species agsq has 0 nests\n",
      "Species amcr has 0 nests\n",
      "Species amgp has 29 nests\n"
     ]
    }
   ],
   "source": [
    "query = \"\"\"\n",
    "SELECT COUNT(*) FROM Bird_nests\n",
    "WHERE Species = ? \n",
    "\"\"\"\n",
    "\n",
    "cur.execute(\"SELECT Code FROM Species LIMIT 3\")\n",
    "for row in cur.fetchall(): #DuckDB work around\n",
    "    code = row[0]\n",
    "    #Not needed: prepared_query = query % code\n",
    "    #print(prepared_query)\n",
    "    cur2 = conn.cursor()\n",
    "    cur2.execute(query, [code]) # add argument here\n",
    "    print(f\"Species {code} has {cur2.fetchone()[0]} nests\")"
   ]
  },
  {
   "cell_type": "markdown",
   "metadata": {},
   "source": [
    "Let's illustrate the danger with a different example"
   ]
  },
  {
   "cell_type": "code",
   "execution_count": 40,
   "metadata": {},
   "outputs": [
    {
     "data": {
      "text/plain": [
       "<duckdb.duckdb.DuckDBPyConnection at 0x7f9c587914b0>"
      ]
     },
     "execution_count": 40,
     "metadata": {},
     "output_type": "execute_result"
    }
   ],
   "source": [
    "abbrev = \"TS\"\n",
    "name = \"Taylor Swift\"\n",
    "cur.execute(\"\"\"\n",
    "            INSERT INTO Personnel (Abbreviation, Name)\n",
    "            VALUES ('%s', '%s')\n",
    "            \"\"\" % (abbrev, name))\n"
   ]
  },
  {
   "cell_type": "code",
   "execution_count": 41,
   "metadata": {},
   "outputs": [
    {
     "data": {
      "text/plain": [
       "[('emagnuson', 'Emily Magnuson'),\n",
       " ('mcorrell', 'Maureen Correll'),\n",
       " ('TS', 'Taylor Swift')]"
      ]
     },
     "execution_count": 41,
     "metadata": {},
     "output_type": "execute_result"
    }
   ],
   "source": [
    "cur.execute(\"SELECT * FROM Personnel\")\n",
    "cur.fetchall()[-3:]"
   ]
  },
  {
   "cell_type": "code",
   "execution_count": 42,
   "metadata": {},
   "outputs": [
    {
     "ename": "ParserException",
     "evalue": "Parser Error: syntax error at or near \"Brian\"",
     "output_type": "error",
     "traceback": [
      "\u001b[0;31m---------------------------------------------------------------------------\u001b[0m",
      "\u001b[0;31mParserException\u001b[0m                           Traceback (most recent call last)",
      "Cell \u001b[0;32mIn[42], line 3\u001b[0m\n\u001b[1;32m      1\u001b[0m abbrev \u001b[39m=\u001b[39m \u001b[39m\"\u001b[39m\u001b[39mCO\u001b[39m\u001b[39m\"\u001b[39m\n\u001b[1;32m      2\u001b[0m name \u001b[39m=\u001b[39m \u001b[39m\"\u001b[39m\u001b[39mConan O\u001b[39m\u001b[39m'\u001b[39m\u001b[39mBrian\u001b[39m\u001b[39m\"\u001b[39m\n\u001b[0;32m----> 3\u001b[0m cur\u001b[39m.\u001b[39;49mexecute(\u001b[39m\"\"\"\u001b[39;49m\n\u001b[1;32m      4\u001b[0m \u001b[39m            INSERT INTO Personnel (Abbreviation, Name)\u001b[39;49m\n\u001b[1;32m      5\u001b[0m \u001b[39m            VALUES (\u001b[39;49m\u001b[39m'\u001b[39;49m\u001b[39m%s\u001b[39;49;00m\u001b[39m'\u001b[39;49m\u001b[39m, \u001b[39;49m\u001b[39m'\u001b[39;49m\u001b[39m%s\u001b[39;49;00m\u001b[39m'\u001b[39;49m\u001b[39m)\u001b[39;49m\n\u001b[1;32m      6\u001b[0m \u001b[39m            \u001b[39;49m\u001b[39m\"\"\"\u001b[39;49m \u001b[39m%\u001b[39;49m (abbrev, name))\n",
      "\u001b[0;31mParserException\u001b[0m: Parser Error: syntax error at or near \"Brian\""
     ]
    }
   ],
   "source": [
    "abbrev = \"CO\"\n",
    "name = \"Conan O'Brian\"\n",
    "cur.execute(\"\"\"\n",
    "            INSERT INTO Personnel (Abbreviation, Name)\n",
    "            VALUES ('%s', '%s')\n",
    "            \"\"\" % (abbrev, name))"
   ]
  },
  {
   "cell_type": "code",
   "execution_count": 44,
   "metadata": {},
   "outputs": [
    {
     "data": {
      "text/plain": [
       "\"\\n            INSERT INTO Personnel (Abbreviation, Name)\\n            VALUES ('CO', 'Conan O'Brian')\\n            \""
      ]
     },
     "execution_count": 44,
     "metadata": {},
     "output_type": "execute_result"
    }
   ],
   "source": [
    "\"\"\"\n",
    "            INSERT INTO Personnel (Abbreviation, Name)\n",
    "            VALUES ('%s', '%s')\n",
    "            \"\"\" % (abbrev, name)"
   ]
  },
  {
   "cell_type": "markdown",
   "metadata": {},
   "source": [
    "errors due to the ' in the last name"
   ]
  },
  {
   "cell_type": "code",
   "execution_count": 45,
   "metadata": {},
   "outputs": [
    {
     "data": {
      "text/plain": [
       "<duckdb.duckdb.DuckDBPyConnection at 0x7f9c587914b0>"
      ]
     },
     "execution_count": 45,
     "metadata": {},
     "output_type": "execute_result"
    }
   ],
   "source": [
    "abbrev = \"CO\"\n",
    "name = \"Conan O'Brian\"\n",
    "cur.execute(\"\"\"\n",
    "            INSERT INTO Personnel (Abbreviation, Name)\n",
    "            VALUES (?, ?)\n",
    "            \"\"\",\n",
    "            [abbrev, name])"
   ]
  },
  {
   "cell_type": "code",
   "execution_count": 46,
   "metadata": {},
   "outputs": [
    {
     "data": {
      "text/plain": [
       "[('mcorrell', 'Maureen Correll'),\n",
       " ('TS', 'Taylor Swift'),\n",
       " ('CO', \"Conan O'Brian\")]"
      ]
     },
     "execution_count": 46,
     "metadata": {},
     "output_type": "execute_result"
    }
   ],
   "source": [
    "cur.execute(\"SELECT * FROM Personnel\")\n",
    "cur.fetchall()[-3:]"
   ]
  }
 ],
 "metadata": {
  "kernelspec": {
   "display_name": "eds217_2023",
   "language": "python",
   "name": "python3"
  },
  "language_info": {
   "codemirror_mode": {
    "name": "ipython",
    "version": 3
   },
   "file_extension": ".py",
   "mimetype": "text/x-python",
   "name": "python",
   "nbconvert_exporter": "python",
   "pygments_lexer": "ipython3",
   "version": "3.10.12"
  },
  "orig_nbformat": 4
 },
 "nbformat": 4,
 "nbformat_minor": 2
}
