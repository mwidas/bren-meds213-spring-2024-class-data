{
 "cells": [
  {
   "cell_type": "markdown",
   "metadata": {},
   "source": [
    "# HW 6 \n",
    "\n",
    "Your task is to create a Python program that reads data from the ASDN database and uses Pandas to compute, for each species in the database (for which there is egg data), the coefficient of variation of volume using the above formula. There are many ways this can be done. Because this assignment is primarily about programming in Python, please follow the steps below. Please submit your Python code when done."
   ]
  },
  {
   "cell_type": "markdown",
   "metadata": {},
   "source": [
    "## Step 1\n",
    "\n",
    "Create a query that will return the distinct species for which there is egg data (not all species and not all nests have egg data), so that you can then loop over those species. Your query should return two columns, species code and scientific name. Please order the results in alphabetic order of scientific name."
   ]
  },
  {
   "cell_type": "code",
   "execution_count": 36,
   "metadata": {},
   "outputs": [],
   "source": [
    "import duckdb"
   ]
  },
  {
   "cell_type": "code",
   "execution_count": 38,
   "metadata": {},
   "outputs": [],
   "source": [
    "# create a connection\n",
    "conn = duckdb.connect(\"database.db\")\n",
    "\n",
    "# create a cursor\n",
    "cur = conn.cursor()"
   ]
  },
  {
   "cell_type": "markdown",
   "metadata": {},
   "source": [
    "### Psuedo-Code\n",
    "\n",
    "- need to make query where nest_id in bird_eggs has egg_num as something\n",
    "- then we need to go from nest_id in bird_eggs to nest_id in bird_nests \n",
    "- then we need to select species in bird_nests which is code in species\n",
    "- and then keep scientific name in species \n",
    "- and order by scientific name "
   ]
  },
  {
   "cell_type": "code",
   "execution_count": 39,
   "metadata": {},
   "outputs": [],
   "source": [
    "# create query \n",
    "species_query = \"\"\"SELECT DISTINCT Code, Scientific_name\n",
    "    FROM Species LEFT JOIN Bird_nests ON Code = Species\n",
    "    LEFT JOIN Bird_eggs ON Bird_nests.Nest_ID = Bird_eggs.Nest_ID\n",
    "    WHERE Width IS NOT NULL AND Length IS NOT NULL\n",
    "    ORDER BY Scientific_name ASC;\"\"\""
   ]
  },
  {
   "cell_type": "code",
   "execution_count": 40,
   "metadata": {},
   "outputs": [
    {
     "data": {
      "text/plain": [
       "[('rutu', 'Arenaria interpres'),\n",
       " ('dunl', 'Calidris alpina'),\n",
       " ('wrsa', 'Calidris fuscicollis'),\n",
       " ('sepl', 'Charadrius semipalmatus'),\n",
       " ('reph', 'Phalaropus fulicarius'),\n",
       " ('amgp', 'Pluvialis dominica'),\n",
       " ('bbpl', 'Pluvialis squatarola')]"
      ]
     },
     "execution_count": 40,
     "metadata": {},
     "output_type": "execute_result"
    }
   ],
   "source": [
    "cur.execute(species_query)\n",
    "\n",
    "cur.fetchall()"
   ]
  },
  {
   "cell_type": "markdown",
   "metadata": {},
   "source": [
    "## Step 2\n",
    "\n",
    "After you’ve connected to the database and created a cursor c, iterate over the species like so:\n",
    "\n",
    "```species_query = \"\"\"SELECT Code, Scientific_name FROM...\"\"\"\n",
    "for row in c.execute(species_query).fetchall():  # DuckDB lame-o workaround\n",
    "    species_code = row[0]\n",
    "    scientific_name = row[1]\n",
    "    # query egg data for that species (step 3)\n",
    "    # compute statistics and print results (step 4)```"
   ]
  },
  {
   "cell_type": "code",
   "execution_count": 41,
   "metadata": {},
   "outputs": [],
   "source": [
    "for row in cur.execute(species_query).fetchall():  # DuckDB lame-o workaround\n",
    "    species_code = row[0]\n",
    "    scientific_name = row[1]\n",
    "    # query egg data for that species (step 3)\n",
    "    # compute statistics and print results (step 4)"
   ]
  },
  {
   "cell_type": "markdown",
   "metadata": {},
   "source": [
    "### Step 3\n",
    "\n",
    "You will need to construct a query that gathers egg data for a given species, one species at a time; the species code will be a parameter to that query. You can compute the formula W^2L\n",
    "\n",
    "\n",
    "in SQL or in Pandas. For simplicity, SQL is suggested:\n",
    "\n",
    "egg_query = \"\"\"SELECT Width*Width*Length AS Volume FROM...\"\"\"\n",
    "Within the loop, you will want to execute the query on the current species in the loop iteration. You may use the Pandas function pd.read_sql to do so and also directly load the results into a dataframe:\n",
    "\n",
    "df = pd.read_sql(egg_query, conn, ...)\n",
    "Do a help(pd.read_sql) to figure out how to pass parameters to a query.\n",
    "\n",
    "You may get a bunch of warnings from Pandas about how it “only supports SQLAlchemy…”. Just ignore them. (Sorry about that.)"
   ]
  },
  {
   "cell_type": "code",
   "execution_count": 42,
   "metadata": {},
   "outputs": [
    {
     "name": "stdout",
     "output_type": "stream",
     "text": [
      "species Arenaria interpres, Volume: 18129.2578125\n",
      "species Calidris alpina, Volume: 22976.552734375\n",
      "species Calidris fuscicollis, Volume: 20778.173828125\n",
      "species Charadrius semipalmatus, Volume: 16836.818359375\n",
      "species Phalaropus fulicarius, Volume: 15369.4091796875\n",
      "species Pluvialis dominica, Volume: 42623.4609375\n",
      "species Pluvialis squatarola, Volume: 70019.4921875\n"
     ]
    }
   ],
   "source": [
    "egg_query = \"\"\"SELECT (Width * Width * Length) AS Volume\n",
    "    FROM Bird_eggs\n",
    "    WHERE Nest_ID IN (\n",
    "        SELECT Nest_ID \n",
    "        FROM Bird_nests \n",
    "        WHERE Species = ?\n",
    "    );\"\"\"\n",
    "\n",
    "for row in cur.execute(species_query).fetchall():  # DuckDB lame-o workaround\n",
    "    species_code = row[0]\n",
    "    scientific_name = row[1]\n",
    "    cur2 = conn.cursor()\n",
    "    cur2.execute(egg_query, (species_code,))\n",
    "    print(f\"species {scientific_name}, Volume: {cur2.fetchone()[0]}\")\n",
    "    # compute statistics and print results (step 4)"
   ]
  },
  {
   "cell_type": "markdown",
   "metadata": {},
   "source": [
    "## Step 4\n",
    "\n",
    "Finally, and still within your loop, you’ll want to compute statistics and print out the results:"
   ]
  },
  {
   "cell_type": "code",
   "execution_count": 53,
   "metadata": {},
   "outputs": [
    {
     "name": "stdout",
     "output_type": "stream",
     "text": [
      "Arenaria interpres 21.12%\n",
      "Calidris alpina 5.46%\n",
      "Calidris fuscicollis 16.77%\n",
      "Charadrius semipalmatus 8.99%\n",
      "Phalaropus fulicarius 4.65%\n",
      "Pluvialis dominica 19.88%\n",
      "Pluvialis squatarola 6.94%\n"
     ]
    },
    {
     "name": "stderr",
     "output_type": "stream",
     "text": [
      "/var/folders/p3/by7gqrh17wx1v95b5kw3dl480000gn/T/ipykernel_5089/1753264129.py:11: UserWarning: pandas only supports SQLAlchemy connectable (engine/connection) or database string URI or sqlite3 DBAPI2 connection. Other DBAPI2 objects are not tested. Please consider using SQLAlchemy.\n",
      "  df = pd.read_sql(egg_query, conn, params=(species_code,))\n"
     ]
    }
   ],
   "source": [
    "# load pandas\n",
    "import pandas as pd\n",
    "\n",
    "for row in cur.execute(species_query).fetchall():  # DuckDB lame-o workaround\n",
    "    species_code = row[0]\n",
    "    scientific_name = row[1]\n",
    "    cur2 = conn.cursor()\n",
    "    cur2.execute(egg_query, (species_code,))\n",
    "\n",
    "    # Read SQL query into a pandas DataFrame\n",
    "    df = pd.read_sql(egg_query, conn, params=(species_code,))\n",
    "    \n",
    "    # Compute statistics\n",
    "    mean_volume = df['Volume'].mean()\n",
    "    std_volume = df['Volume'].std()\n",
    "    cv = round(std_volume / mean_volume * 100, 2)\n",
    "    \n",
    "    # Print results\n",
    "    print(f\"{scientific_name} {cv}%\")\n",
    "\n"
   ]
  },
  {
   "cell_type": "code",
   "execution_count": null,
   "metadata": {},
   "outputs": [],
   "source": []
  }
 ],
 "metadata": {
  "kernelspec": {
   "display_name": "eds217_2023",
   "language": "python",
   "name": "python3"
  },
  "language_info": {
   "codemirror_mode": {
    "name": "ipython",
    "version": 3
   },
   "file_extension": ".py",
   "mimetype": "text/x-python",
   "name": "python",
   "nbconvert_exporter": "python",
   "pygments_lexer": "ipython3",
   "version": "3.10.12"
  },
  "orig_nbformat": 4
 },
 "nbformat": 4,
 "nbformat_minor": 2
}
